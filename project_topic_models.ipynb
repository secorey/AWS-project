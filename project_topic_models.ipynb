{
 "cells": [
  {
   "cell_type": "code",
   "execution_count": 1,
   "metadata": {},
   "outputs": [
    {
     "data": {
      "text/html": [
       "Current session configs: <tt>{'conf': {'spark.pyspark.python': 'python3', 'spark.pyspark.virtualenv.enabled': 'true', 'spark.pyspark.virtualenv.type': 'native', 'spark.pyspark.virtualenv.bin.path': '/usr/bin/virtualenv'}, 'proxyUser': 'jovyan', 'kind': 'pyspark'}</tt><br>"
      ],
      "text/plain": [
       "<IPython.core.display.HTML object>"
      ]
     },
     "metadata": {},
     "output_type": "display_data"
    },
    {
     "data": {
      "text/html": [
       "No active sessions."
      ],
      "text/plain": [
       "<IPython.core.display.HTML object>"
      ]
     },
     "metadata": {},
     "output_type": "display_data"
    }
   ],
   "source": [
    "%%configure -f\n",
    "{\n",
    "    \"conf\": {\n",
    "        \"spark.pyspark.python\": \"python3\",\n",
    "        \"spark.pyspark.virtualenv.enabled\": \"true\",\n",
    "        \"spark.pyspark.virtualenv.type\":\"native\",\n",
    "        \"spark.pyspark.virtualenv.bin.path\":\"/usr/bin/virtualenv\"\n",
    "    }\n",
    "}"
   ]
  },
  {
   "cell_type": "code",
   "execution_count": 2,
   "metadata": {},
   "outputs": [
    {
     "name": "stdout",
     "output_type": "stream",
     "text": [
      "Starting Spark application\n"
     ]
    },
    {
     "data": {
      "text/html": [
       "<table>\n",
       "<tr><th>ID</th><th>YARN Application ID</th><th>Kind</th><th>State</th><th>Spark UI</th><th>Driver log</th><th>Current session?</th></tr><tr><td>9</td><td>application_1685038600819_0013</td><td>pyspark</td><td>idle</td><td><a target=\"_blank\" href=\"http://ip-172-31-26-74.ec2.internal:20888/proxy/application_1685038600819_0013/\">Link</a></td><td><a target=\"_blank\" href=\"http://ip-172-31-31-179.ec2.internal:8042/node/containerlogs/container_1685038600819_0013_01_000001/livy\">Link</a></td><td>✔</td></tr></table>"
      ],
      "text/plain": [
       "<IPython.core.display.HTML object>"
      ]
     },
     "metadata": {},
     "output_type": "display_data"
    },
    {
     "data": {
      "application/vnd.jupyter.widget-view+json": {
       "model_id": "",
       "version_major": 2,
       "version_minor": 0
      },
      "text/plain": [
       "FloatProgress(value=0.0, bar_style='info', description='Progress:', layout=Layout(height='25px', width='50%'),…"
      ]
     },
     "metadata": {},
     "output_type": "display_data"
    },
    {
     "name": "stdout",
     "output_type": "stream",
     "text": [
      "SparkSession available as 'spark'.\n"
     ]
    },
    {
     "data": {
      "application/vnd.jupyter.widget-view+json": {
       "model_id": "",
       "version_major": 2,
       "version_minor": 0
      },
      "text/plain": [
       "FloatProgress(value=0.0, bar_style='info', description='Progress:', layout=Layout(height='25px', width='50%'),…"
      ]
     },
     "metadata": {},
     "output_type": "display_data"
    }
   ],
   "source": [
    "from pyspark.sql import SparkSession\n",
    "from pyspark.ml.feature import StopWordsRemover, CountVectorizer, IDF, SQLTransformer, Tokenizer\n",
    "from pyspark.ml.clustering import LDA\n",
    "from pyspark.sql.functions import udf\n",
    "from pyspark.sql.types import StringType\n",
    "from pyspark.ml.feature import SQLTransformer\n",
    "import boto3\n",
    "import mysql.connector\n",
    "\n",
    "# Get Spark context\n",
    "spark = SparkSession.builder.getOrCreate()\n",
    "\n",
    "def run_topic_model(df):\n",
    "    '''\n",
    "    Generate topic models for a dataframe.\n",
    "    '''\n",
    "    # Concatenate title and body:\n",
    "    concatenation_expr = \"SELECT *, CONCAT(title, body) AS content FROM __THIS__\"\n",
    "    sql_transformer = SQLTransformer(statement=concatenation_expr)\n",
    "    c_df = sql_transformer.transform(df)\n",
    "\n",
    "    # Tokenize:\n",
    "    tokenizer = Tokenizer(inputCol='content', outputCol='tokens')\n",
    "    tokenized_df = tokenizer.transform(c_df)\n",
    "\n",
    "    # Remove stop words:\n",
    "    stopwords = StopWordsRemover.loadDefaultStopWords(\"english\")\n",
    "    additional_stopwords = ['*', '-', '@', '&amp', '&gt', '-', '•', '/', '–', '&amp;', '&gt;']\n",
    "    stopwords += additional_stopwords\n",
    "    stopword_remover = StopWordsRemover(inputCol='tokens', outputCol='filtered_tokens', stopWords=stopwords)\n",
    "    filtered_df = stopword_remover.transform(tokenized_df)\n",
    "\n",
    "    # TF-IDF:\n",
    "    cv = CountVectorizer(inputCol='filtered_tokens', outputCol='raw_features')\n",
    "    cv_model = cv.fit(filtered_df)\n",
    "    featurized_df = cv_model.transform(filtered_df)\n",
    "    idf = IDF(inputCol='raw_features', outputCol='features')\n",
    "    idf_model = idf.fit(featurized_df)\n",
    "    tfidf_df = idf_model.transform(featurized_df)\n",
    "\n",
    "    # LDA model:\n",
    "    num_topics = 10\n",
    "    lda = LDA(k=num_topics, maxIter=10)\n",
    "    lda_model = lda.fit(tfidf_df)\n",
    "\n",
    "    # Get topic distribution:\n",
    "    transformed_df = lda_model.transform(tfidf_df)\n",
    "\n",
    "    # Get biggest topics:\n",
    "    def get_most_dominant_topic(topics):\n",
    "        max_index = int(topics.argmax())\n",
    "        return str(max_index)\n",
    "    udf_get_most_dominant_topic = udf(get_most_dominant_topic, StringType())\n",
    "    transformed_df = transformed_df.withColumn('dominant_topic', udf_get_most_dominant_topic('topicDistribution'))\n",
    "    topic_indices = range(num_topics)\n",
    "    word_indices = cv_model.vocabulary\n",
    "    topic_words = lda_model.describeTopics(maxTermsPerTopic=10)\n",
    "    topics = topic_words.rdd.map(lambda row: row['termIndices']).collect()\n",
    "    topic_word_list = []\n",
    "    for topic in topics:\n",
    "        words = [word_indices[i] for i in topic]\n",
    "        topic_word_list.append(words)\n",
    "\n",
    "    # Print each topic:\n",
    "    for topic_idx, words in enumerate(topic_word_list):\n",
    "        print(f\"Topic {topic_idx}: {', '.join(words[1:])}\")\n",
    "    return\n",
    "        \n",
    "        \n",
    "def compare_diversities(posts_df, diversity_scores_df, scale):\n",
    "    '''\n",
    "    Split data along diversity scale and generate two topic models.\n",
    "    '''\n",
    "    \n",
    "    assert type(scale) == str\n",
    "\n",
    "    # Get 2 dfs to compare:\n",
    "    # Posts that rank the best on that axis\n",
    "    lowest_scale_df = posts_df.join(diversity_scores_df, 'reddit_handle')\\\n",
    "        .filter(diversity_scores_df[scale] < 100)\n",
    "    print(f'Topics for cities with the best rank in {scale}:')\n",
    "    run_topic_model(lowest_scale_df)\n",
    "    # Posts that rank the worst on that axis:\n",
    "    highest_scale_df = posts_df.join(diversity_scores_df, 'reddit_handle')\\\n",
    "        .filter(diversity_scores_df[scale] > 400)\n",
    "    print(f'\\nTopics for cities with the worst rank in {scale}:')\n",
    "    run_topic_model(highest_scale_df)\n",
    "\n",
    "    return"
   ]
  },
  {
   "cell_type": "code",
   "execution_count": 3,
   "metadata": {},
   "outputs": [
    {
     "data": {
      "application/vnd.jupyter.widget-view+json": {
       "model_id": "",
       "version_major": 2,
       "version_minor": 0
      },
      "text/plain": [
       "FloatProgress(value=0.0, bar_style='info', description='Progress:', layout=Layout(height='25px', width='50%'),…"
      ]
     },
     "metadata": {},
     "output_type": "display_data"
    }
   ],
   "source": [
    "# Fetch data:\n",
    "rds_name = 'rds_project'\n",
    "# Gather Reddit handles:\n",
    "rds = boto3.client('rds', region_name='us-east-1')\n",
    "db = rds.describe_db_instances()['DBInstances'][0]\n",
    "ENDPOINT = db['Endpoint']['Address']\n",
    "PORT = db['Endpoint']['Port']\n",
    "conn =  mysql.connector.connect(host=ENDPOINT,\n",
    "                                user=\"username\",\n",
    "                                passwd=\"password\", \n",
    "                                port=PORT, \n",
    "                                database=rds_name)\n",
    "cur = conn.cursor()\n",
    "\n",
    "query = f\"\"\"\n",
    "    SELECT column_name\n",
    "    FROM information_schema.columns\n",
    "    WHERE table_schema='{rds_name}'\n",
    "    AND table_name='diversity_scores';\n",
    "\"\"\"\n",
    "cur.execute(query)\n",
    "column_names = [i[0] for i in cur.fetchall()]\n",
    "query = \"\"\"\n",
    "    SELECT * FROM diversity_scores\n",
    "\"\"\"\n",
    "cur.execute(query)\n",
    "diversity_scores_df = spark.createDataFrame(cur.fetchall(), column_names)\n",
    "\n",
    "query = f\"\"\"\n",
    "    SELECT column_name\n",
    "    FROM information_schema.columns\n",
    "    WHERE table_schema='{rds_name}'\n",
    "    AND table_name='posts';\n",
    "\"\"\"\n",
    "cur.execute(query)\n",
    "column_names = [i[0] for i in cur.fetchall()]\n",
    "query = \"\"\"\n",
    "    SELECT * FROM posts;\n",
    "\"\"\"\n",
    "cur.execute(query)\n",
    "posts_df = spark.createDataFrame(cur.fetchall(), column_names)\n",
    "conn.close()"
   ]
  },
  {
   "cell_type": "code",
   "execution_count": 4,
   "metadata": {},
   "outputs": [
    {
     "data": {
      "application/vnd.jupyter.widget-view+json": {
       "model_id": "",
       "version_major": 2,
       "version_minor": 0
      },
      "text/plain": [
       "FloatProgress(value=0.0, bar_style='info', description='Progress:', layout=Layout(height='25px', width='50%'),…"
      ]
     },
     "metadata": {},
     "output_type": "display_data"
    },
    {
     "name": "stdout",
     "output_type": "stream",
     "text": [
      "Topics for cities with the best rank in overall_rank:\n",
      "Topic 0: anyone, like, know, get, looking, county, people, plant, car\n",
      "Topic 1: **, pm, unemployment, best, new, &amp;#x200b;, \\-, raleigh, day\n",
      "Topic 2: hair, anyone, looking, good, clubs, vegan, know, get, new\n",
      "Topic 3: plano,  , rockville, atlanta?, meet, goods, comments, report, links\n",
      "Topic 4: , boston, cop, pizza, cinco, best, mayo, passes, local\n",
      "Topic 5: vote, trash, voting, ballot, get, drop, like, around, know\n",
      "Topic 6: like, looking, know, anyone, get, i’m, new, good, one\n",
      "Topic 7: thai, georgia, o, \\-, donuts, study, nba, anyone, beef\n",
      "Topic 8: pm, ages, library), film, (riverfront, taxi, presidential, square, ride\n",
      "Topic 9: vet, show, grand, comedy, know, ice, anyone, tempe, get\n",
      "\n",
      "Topics for cities with the worst rank in overall_rank:\n",
      "Topic 0: city, looking, council, anyone, know, like, good, place, places\n",
      "Topic 1: gary, power, storm, guide, wyoming, king, rock, :, new\n",
      "Topic 2: star, dead, de, wars, , episode, rainbow, purple, deadline\n",
      "Topic 3: snow, gym, anyone, film, traffic, get, know, looking, laredo\n",
      "Topic 4: tickets, voting, ballot, vote, election, comedy, trivia, anyone, drop\n",
      "Topic 5: :-, , --:, **change**, p100k, sushi, occupied, 41, **deschutes**\n",
      "Topic 6: , art, --, play, west, hair, show, a.m., looking\n",
      "Topic 7: \\-, stolen, anyone, looking, see, get, like, best, good\n",
      "Topic 8: pm:, people, get, governor:, know, go, want, going, like\n",
      "Topic 9: like, get, i’m, know, anyone, good, dog, looking, find"
     ]
    }
   ],
   "source": [
    "compare_diversities(posts_df, diversity_scores_df, 'overall_rank')"
   ]
  },
  {
   "cell_type": "code",
   "execution_count": 5,
   "metadata": {},
   "outputs": [
    {
     "data": {
      "application/vnd.jupyter.widget-view+json": {
       "model_id": "",
       "version_major": 2,
       "version_minor": 0
      },
      "text/plain": [
       "FloatProgress(value=0.0, bar_style='info', description='Progress:', layout=Layout(height='25px', width='50%'),…"
      ]
     },
     "metadata": {},
     "output_type": "display_data"
    },
    {
     "name": "stdout",
     "output_type": "stream",
     "text": [
      "Topics for cities with the best rank in socioeconomic_diversity:\n",
      "Topic 0: know, anyone, dog, looking, new, like, good, best, one\n",
      "Topic 1: golf, \\-, speed, police, air, city, router, new, &amp;#x200b;\n",
      "Topic 2: , massage, election, place, curly, gyms, therapist, presidential, salon\n",
      "Topic 3: talk, friday,, franklin, warrant, covid-19, traffic,, vent, members, free\n",
      "Topic 4: city, community, county, looking, may, property, housing, know, get\n",
      "Topic 5: killed, police, boxing, dog, man, arrested, new, anyone, olathe\n",
      "Topic 6: like, anyone, get, looking, know, i’m, good, one, people\n",
      "Topic 7: [click, looking, food, meet, good, get, tattoo, new, best\n",
      "Topic 8: boston, daily, best, discord, dearborn, chat, questions, things, fox\n",
      "Topic 9: need, new, looking, weekly, anyone, help, rogers, get, find\n",
      "\n",
      "Topics for cities with the worst rank in socioeconomic_diversity:\n",
      "Topic 0: p.m., macon, --, school, art, &amp;#x200b;, west, beer, water\n",
      "Topic 1: city, voting, ballot, need, vote, anyone, good, know, looking\n",
      "Topic 2: dog, police, flint, southern, butte, anyone, springfield, know, local\n",
      "Topic 3: like, looking, anyone, get, know, pm:, people, i’m, new\n",
      "Topic 4: city, commission, justin, thrift, county, theater, good, square, memphis\n",
      "Topic 5: basketball, wood, tv:, courts, kezi, book, dnd, kayak, outage\n",
      "Topic 6: tattoo, teams, artist, area, hotel, punk, ct, pool, ski\n",
      "Topic 7: discussion, game, thread, youngstown, research, [may, local, hair, study\n",
      "Topic 8: , rate, figures, force, employment, positions, labor, significant, nonfarm\n",
      "Topic 9: events, dental, [springfield, ^the, events,, springfield, ^to, huntington, best"
     ]
    }
   ],
   "source": [
    "compare_diversities(posts_df, diversity_scores_df, 'socioeconomic_diversity')"
   ]
  },
  {
   "cell_type": "code",
   "execution_count": 10,
   "metadata": {},
   "outputs": [
    {
     "data": {
      "application/vnd.jupyter.widget-view+json": {
       "model_id": "",
       "version_major": 2,
       "version_minor": 0
      },
      "text/plain": [
       "FloatProgress(value=0.0, bar_style='info', description='Progress:', layout=Layout(height='25px', width='50%'),…"
      ]
     },
     "metadata": {},
     "output_type": "display_data"
    },
    {
     "name": "stdout",
     "output_type": "stream",
     "text": [
      "Topics for cities with the best rank in cultural_diversity:\n",
      "Topic 0: , anyone, open, taxi, war, new, commission, venue, water\n",
      "Topic 1: like, know, looking, anyone, get, i’m, good, people, one\n",
      "Topic 2: place, plano, bellevue, new, [click, pm, good, city, reporter\n",
      "Topic 3: comedy, police, dental, suspect, mayor, show, yoga, crystal, officers\n",
      "Topic 4: new, looking, anyone, pizza, get, i’m, gym, know, rent\n",
      "Topic 5: fireworks, \\-, discord, amtrak, ri, armed, wood, tea, like\n",
      "Topic 6: springfield, lake, [springfield, ^the, ^to, events,, events, know, view\n",
      "Topic 7: ages, library), roller, cake, kent, pm, (riverfront, coronavirus, county\n",
      "Topic 8: best, fresh, food, place, chicken, daily, good, valley, sushi\n",
      "Topic 9: new, city, voting, vote, anyone, county, like, get, may\n",
      "\n",
      "Topics for cities with the worst rank in cultural_diversity:\n",
      "Topic 0: looking, know, like, anyone, help, good, find, dog, please\n",
      "Topic 1: fireworks, mississippi, christmas, judge, cases, #, holiday, among, proposed\n",
      "Topic 2: , rate, figures, labor, employment, workers, positions, ^a, significant\n",
      "Topic 3: like, get, store, georgetown, want, anyone, car, people, used\n",
      "Topic 4: ballot, tickets, &amp;#x200b;, play, \\-, get, :-, looking, county\n",
      "Topic 5: anyone, get, know, i’m, like, looking, one, people, time\n",
      "Topic 6: anyone, city, get, around, local, idaho, need, businesses, new\n",
      "Topic 7: , sunset, furniture, lebanese, 4th, [view, 7th, cannabis, **downtown**\n",
      "Topic 8: , election, de, city, municipal, mortgage, spanish, iso, halloween\n",
      "Topic 9: cedar, rapids, grade, film, el, theater, response, nic, meeting"
     ]
    }
   ],
   "source": [
    "compare_diversities(posts_df, diversity_scores_df, 'cultural_diversity')"
   ]
  },
  {
   "cell_type": "code",
   "execution_count": 11,
   "metadata": {},
   "outputs": [
    {
     "data": {
      "application/vnd.jupyter.widget-view+json": {
       "model_id": "",
       "version_major": 2,
       "version_minor": 0
      },
      "text/plain": [
       "FloatProgress(value=0.0, bar_style='info', description='Progress:', layout=Layout(height='25px', width='50%'),…"
      ]
     },
     "metadata": {},
     "output_type": "display_data"
    },
    {
     "name": "stdout",
     "output_type": "stream",
     "text": [
      "Topics for cities with the best rank in economic_diversity:\n",
      "Topic 0: school, waldorf, like, anyone, looking, new, board, play, good\n",
      "Topic 1: fireworks, dining, waldorf, newark, parade, southwest, carson, looking, lake\n",
      "Topic 2: conflict, , survival, chicken, art, pm, peace, glen, challenge\n",
      "Topic 3: like, know, looking, anyone, get, i’m, good, people, one\n",
      "Topic 4: miami, get, city, like, looking, league, laredo, new, de\n",
      "Topic 5: cat, grand, pool, power, anyone, know, get, looking, man\n",
      "Topic 6: unemployment, rate, figures, employment, labor, individual, positions, dental, force\n",
      "Topic 7: police, radio, clarksville, neighbors, photo, morning, trivia, shots, tn**\n",
      "Topic 8: kent, ca, tank, here’s, beaches, y, anyone, jackson, laid\n",
      "Topic 9:  , eledge, donate, women’s, hair, recommendations?, looking, smash, ms.\n",
      "\n",
      "Topics for cities with the worst rank in economic_diversity:\n",
      "Topic 0: anyone, know, around, like, brunch, louis, day, find, fire\n",
      "Topic 1: jazz, oil, river, anyone, nail, [best, lenexa, road, know\n",
      "Topic 2: new, study, comedy, weekly, creek, park, power, guitar, looking\n",
      "Topic 3: city, council, unemployment, rate, &amp;#x200b;, county, dog, vote, public\n",
      "Topic 4: rugby, stl, solar, japanese, anyone, hamilton, dating, ages), 21+)\n",
      "Topic 5: cat, cats, need, looking, body, thread, anyone, help, local\n",
      "Topic 6: please, hair, report, conversation, casual, weekly, boston, events, thread.\n",
      "Topic 7: indian, d&amp;d, games, boxing, pokémon, best, anyone, looking, lancaster\n",
      "Topic 8: anyone, park, good, police, know, see, get, like, looking\n",
      "Topic 9: looking, like, know, anyone, get, i’m, people, good, new"
     ]
    }
   ],
   "source": [
    "compare_diversities(posts_df, diversity_scores_df, 'economic_diversity')"
   ]
  },
  {
   "cell_type": "code",
   "execution_count": 12,
   "metadata": {},
   "outputs": [
    {
     "data": {
      "application/vnd.jupyter.widget-view+json": {
       "model_id": "",
       "version_major": 2,
       "version_minor": 0
      },
      "text/plain": [
       "FloatProgress(value=0.0, bar_style='info', description='Progress:', layout=Layout(height='25px', width='50%'),…"
      ]
     },
     "metadata": {},
     "output_type": "display_data"
    },
    {
     "name": "stdout",
     "output_type": "stream",
     "text": [
      "Topics for cities with the best rank in household_diversity:\n",
      "Topic 0: looking, questions, anyone, good, apartments, know, like, grand, open\n",
      "Topic 1: a/c, cases, antonio, moon, eastern, san, anyone, submissions, know\n",
      "Topic 2: pizza, ?, man, police, know, pa, dental, game, city\n",
      "Topic 3: **, anyone, know, **sat, join, ne, new, pm, food\n",
      "Topic 4: get, like, looking, know, anyone, people, i’m, new, want\n",
      "Topic 5: hair, shelter, ice, paterson, fence, anyone, stylist, snow, ski\n",
      "Topic 6: anyone, know, best, like, around, bar, coffee, get, day\n",
      "Topic 7: unemployment, anyone, looking, style, get, know, good, racine, new\n",
      "Topic 8: , best, food, &amp;#x200b;, arrested, chicken, cuban, justice, sunset\n",
      "Topic 9: des, salon, station, dance, moines, dancing, nail, best, trash\n",
      "\n",
      "Topics for cities with the worst rank in household_diversity:\n",
      "Topic 0: hair, unemployment, bars, good, new, looking, anyone, play, sc\n",
      "Topic 1: council, city, need, weekly, new, park, tickets, help, date\n",
      "Topic 2: looking, like, get, anyone, know, i’m, people, good, new\n",
      "Topic 3: park, rancho, rio, good, jazz, parks, know, dog, anyone\n",
      "Topic 4: \\*, [best, good, ultimate, piano, comedy, fish, pest, best\n",
      "Topic 5: pool, meet, speed, selling, reminder, atlanta?, goods, guitar, remove\n",
      "Topic 6: conversation, thread., casual, rogers, , weekly, artists, [best, recommendations,\n",
      "Topic 7: union, broken, chicken, fried, city, cases, motorcycle, good, best\n",
      "Topic 8: doctor, jobs, mattress, fellow, redditors, remote, community, filters, looking\n",
      "Topic 9: wilmington, events, #, anyone, bellevue, feed, reporter, source:, know"
     ]
    }
   ],
   "source": [
    "compare_diversities(posts_df, diversity_scores_df, 'household_diversity')"
   ]
  },
  {
   "cell_type": "code",
   "execution_count": 13,
   "metadata": {},
   "outputs": [
    {
     "data": {
      "application/vnd.jupyter.widget-view+json": {
       "model_id": "",
       "version_major": 2,
       "version_minor": 0
      },
      "text/plain": [
       "FloatProgress(value=0.0, bar_style='info', description='Progress:', layout=Layout(height='25px', width='50%'),…"
      ]
     },
     "metadata": {},
     "output_type": "display_data"
    },
    {
     "name": "stdout",
     "output_type": "stream",
     "text": [
      "Topics for cities with the best rank in religious_diversity:\n",
      "Topic 0: looking, anyone, plymouth, raleigh, new, good, ice, music, play\n",
      "Topic 1: events, montgomery, comments, voting, sure, please, upcoming, meet, area\n",
      "Topic 2: like, know, anyone, get, looking, people, i’m, one, go\n",
      "Topic 3: vote, oklahoma, coeur, gay, d'alene, register, nic, anyone, brick\n",
      "Topic 4: trash, movie, open, get, greenway, clubs, black, market, i’m\n",
      "Topic 5: looking, like, get, know, anyone, good, place, city, i’m\n",
      "Topic 6: , mobile, rivers, sc, [my, barber, curly, recommendations, stylist\n",
      "Topic 7: weekly, sioux, thread, [click, falls, like, want, talk, make\n",
      "Topic 8: unemployment, rate, figures, new, bus, individual, labor, positions, workers\n",
      "Topic 9: anyone, taxi, cleaning, housing, woman, ,, car, property, weekly\n",
      "\n",
      "Topics for cities with the worst rank in religious_diversity:\n",
      "Topic 0: looking, good, know, anyone, places, get, best, place, like\n",
      "Topic 1: storm, propane, abortion, prison, need, clinic, dentist, i’m, know\n",
      "Topic 2: like, looking, i’m, get, know, anyone, people, go, want\n",
      "Topic 3: city, council, new, anyone, know, looking, like, people, get\n",
      "Topic 4: anyone, know, like, get, unemployment, looking, one, inpatient, best\n",
      "Topic 5: &amp;#x200b;, like, know, get, it’s, anyone, need, pm, one\n",
      "Topic 6: low, :-, city, --:, council, arts, new, 6:00, committee\n",
      "Topic 7: class, conflict, study, survival, springs, cheyenne, hot, martial, free\n",
      "Topic 8: plants, layton, organic, anyone, las, repair, prairie, police, egg\n",
      "Topic 9: eledge, laredo, anyone, happened, p.m., spectrum, like, explosion, little"
     ]
    }
   ],
   "source": [
    "compare_diversities(posts_df, diversity_scores_df, 'religious_diversity')"
   ]
  }
 ],
 "metadata": {
  "kernelspec": {
   "display_name": "PySpark",
   "language": "",
   "name": "pysparkkernel"
  },
  "language_info": {
   "codemirror_mode": {
    "name": "python",
    "version": 3
   },
   "mimetype": "text/x-python",
   "name": "pyspark",
   "pygments_lexer": "python3"
  }
 },
 "nbformat": 4,
 "nbformat_minor": 4
}
